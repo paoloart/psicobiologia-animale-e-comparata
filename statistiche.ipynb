{
 "cells": [
  {
   "cell_type": "code",
   "execution_count": 6,
   "metadata": {},
   "outputs": [
    {
     "name": "stdout",
     "output_type": "stream",
     "text": [
      "                                              Domanda  Tempo   Tempo_1  \\\n",
      "0   Rapporto uomo-animale in prospettiva post-darw...    NaN  0.378816   \n",
      "1   Omologie profonde nella struttura delle membra...    NaN  0.128509   \n",
      "2          Pattern motori pre- e neonatali nell'uomo.    NaN  0.134766   \n",
      "3          Neuroni mirror audio-motori negli uccelli.    NaN  0.141560   \n",
      "4   Recettori della sensibilità tattile: aspetti s...    NaN  0.492007   \n",
      "..                                                ...    ...       ...   \n",
      "74  I concetti di «campo recettivo» e «mappa» neur...    NaN  0.279907   \n",
      "75  Mappe tonotopiche dalla coclea alla corteccia ...    NaN  0.265572   \n",
      "76                                Metodi alternativi.    NaN  0.309216   \n",
      "77  Studi neuro-comportamentali di laboratorio e s...    NaN  0.274961   \n",
      "78  Stimolazione intracorticale e registrazione ex...    NaN  0.292887   \n",
      "\n",
      "     Tempo_2  \n",
      "0   0.163186  \n",
      "1   0.151965  \n",
      "2   0.158834  \n",
      "3   0.136343  \n",
      "4   0.101466  \n",
      "..       ...  \n",
      "74  0.144372  \n",
      "75  0.151276  \n",
      "76  0.158773  \n",
      "77  0.136283  \n",
      "78  0.169142  \n",
      "\n",
      "[79 rows x 4 columns]\n"
     ]
    }
   ],
   "source": [
    "import pandas as pd\n",
    "\n",
    "file_risultati = 'risultati.csv'\n",
    "risultati_df = pd.read_csv(file_risultati)\n",
    "\n",
    "print(risultati_df)\n"
   ]
  }
 ],
 "metadata": {
  "kernelspec": {
   "display_name": "Python 3",
   "language": "python",
   "name": "python3"
  },
  "language_info": {
   "codemirror_mode": {
    "name": "ipython",
    "version": 3
   },
   "file_extension": ".py",
   "mimetype": "text/x-python",
   "name": "python",
   "nbconvert_exporter": "python",
   "pygments_lexer": "ipython3",
   "version": "3.10.5"
  },
  "orig_nbformat": 4
 },
 "nbformat": 4,
 "nbformat_minor": 2
}
